{
 "cells": [
  {
   "cell_type": "markdown",
   "metadata": {},
   "source": [
    "# <center>Websocket for binance api<br>Kline/Candlestick Streams</center>"
   ]
  },
  {
   "cell_type": "code",
   "execution_count": null,
   "metadata": {},
   "outputs": [],
   "source": [
    "from IPython.display import clear_output  # only to clear the output of the cell\n",
    "import pandas as pd                       # just to convert time (you can comment this line)\n",
    "import websocket\n",
    "import json"
   ]
  },
  {
   "cell_type": "code",
   "execution_count": null,
   "metadata": {
    "scrolled": false
   },
   "outputs": [],
   "source": [
    "symbol       = 'BTCUSDT'   # symbol to track\n",
    "interval     = '1m'        # interval  : 1m, 3m, 5m, 15m, 30m, 1h, 2h, 4h, 6h, 8h, 12h, 1d\n",
    "price_tag    = 'o'         # o, c, l, h (chose which to track)\n",
    "min_price    = 23200\n",
    "convert_time = True\n",
    "\n",
    "def on_open(ws):\n",
    "    subscribe = {\n",
    "      \"method\": \"SUBSCRIBE\",\n",
    "      \"params\": [\"%s@kline_%s\" % (symbol.lower(), interval)], \"id\": 1\n",
    "    }\n",
    "    ws.send(json.dumps(subscribe))\n",
    "\n",
    "def on_message(ws, message):\n",
    "    data = json.loads(message)\n",
    "    clear_output()\n",
    "    try:\n",
    "        if float(data['k'][price_tag]) > min_price:\n",
    "            if convert_time:\n",
    "                t = str(pd.to_datetime(int(data['k']['t']), unit='ms'))\n",
    "            else:\n",
    "                t = int(data['k']['t'])\n",
    "            o = float(data['k']['o']) # open price\n",
    "            c = float(data['k']['c']) # closed\n",
    "            h = float(data['k']['h']) # high\n",
    "            l = float(data['k']['l']) # low\n",
    "            avg = (o + c)/2           # average\n",
    "            \n",
    "            new_data = {\n",
    "                't' : t,\n",
    "                'o' : o,\n",
    "                'c' : c,\n",
    "                'h' : h,\n",
    "                'l' : l,\n",
    "                'avg' : avg\n",
    "            }\n",
    "            print('Current price %f > %f' % (new_data[price_tag], min_price))\n",
    "            print(json.dumps(new_data, indent = 2))\n",
    "        else:\n",
    "            print('NOPE')\n",
    "    except Exception as ex:\n",
    "        print(ex)\n",
    "url = 'wss://stream.binance.com:9443/ws'\n",
    "ws = websocket.WebSocketApp(url, on_open = on_open, on_message = on_message)\n",
    "ws.run_forever()"
   ]
  },
  {
   "cell_type": "code",
   "execution_count": null,
   "metadata": {},
   "outputs": [],
   "source": []
  },
  {
   "cell_type": "code",
   "execution_count": null,
   "metadata": {},
   "outputs": [],
   "source": []
  }
 ],
 "metadata": {
  "kernelspec": {
   "display_name": "Python 3",
   "language": "python",
   "name": "python3"
  },
  "language_info": {
   "codemirror_mode": {
    "name": "ipython",
    "version": 3
   },
   "file_extension": ".py",
   "mimetype": "text/x-python",
   "name": "python",
   "nbconvert_exporter": "python",
   "pygments_lexer": "ipython3",
   "version": "3.7.4"
  }
 },
 "nbformat": 4,
 "nbformat_minor": 2
}
