{
 "cells": [
  {
   "cell_type": "markdown",
   "metadata": {},
   "source": [
    "# <center>Websocket for binance api<br>Trade Streams</center>"
   ]
  },
  {
   "cell_type": "code",
   "execution_count": 2,
   "metadata": {},
   "outputs": [],
   "source": [
    "from IPython.display import clear_output  # only to clear the output of the cell\n",
    "import pandas as pd                       # just to convert time (you can comment this line)\n",
    "import time                               # optional, to add a time delay\n",
    "import websocket\n",
    "import json"
   ]
  },
  {
   "cell_type": "code",
   "execution_count": 3,
   "metadata": {
    "scrolled": false
   },
   "outputs": [
    {
     "name": "stdout",
     "output_type": "stream",
     "text": [
      "{\n",
      "  \"e\": \"trade\",\n",
      "  \"E\": 1660473891176,\n",
      "  \"s\": \"BTCUSDT\",\n",
      "  \"t\": 1626139553,\n",
      "  \"p\": \"24648.26000000\",\n",
      "  \"q\": \"0.00424000\",\n",
      "  \"b\": 12435053875,\n",
      "  \"a\": 12435053869,\n",
      "  \"T\": 1660473891175,\n",
      "  \"m\": false,\n",
      "  \"M\": true\n",
      "}\n"
     ]
    },
    {
     "data": {
      "text/plain": [
       "False"
      ]
     },
     "execution_count": 3,
     "metadata": {},
     "output_type": "execute_result"
    }
   ],
   "source": [
    "symbol       = 'BTCUSDT'   # symbol to track\n",
    "convert_time = True\n",
    "min_price    = 24000\n",
    "\n",
    "\n",
    "def on_open(ws):\n",
    "    subscribe = {\n",
    "      'method': \"SUBSCRIBE\",\n",
    "      'params': [\"%s@trade\" % symbol.lower()],\n",
    "      'id'    : 1\n",
    "    }\n",
    "    ws.send(json.dumps(subscribe))\n",
    "\n",
    "def on_message(ws, msg):\n",
    "    clear_output()\n",
    "    data = json.loads(msg)\n",
    "    try:\n",
    "        if float(data['p']) > min_price:\n",
    "            print(json.dumps(data, indent = 2))\n",
    "            time.sleep(3)\n",
    "    except Exception as ex:\n",
    "        print(ex)\n",
    "url = 'wss://stream.binance.com:9443/ws'\n",
    "ws = websocket.WebSocketApp(url, on_open = on_open, on_message = on_message)\n",
    "ws.run_forever()"
   ]
  },
  {
   "cell_type": "code",
   "execution_count": null,
   "metadata": {},
   "outputs": [],
   "source": []
  },
  {
   "cell_type": "code",
   "execution_count": null,
   "metadata": {},
   "outputs": [],
   "source": []
  }
 ],
 "metadata": {
  "kernelspec": {
   "display_name": "Python 3",
   "language": "python",
   "name": "python3"
  },
  "language_info": {
   "codemirror_mode": {
    "name": "ipython",
    "version": 3
   },
   "file_extension": ".py",
   "mimetype": "text/x-python",
   "name": "python",
   "nbconvert_exporter": "python",
   "pygments_lexer": "ipython3",
   "version": "3.7.4"
  }
 },
 "nbformat": 4,
 "nbformat_minor": 2
}
